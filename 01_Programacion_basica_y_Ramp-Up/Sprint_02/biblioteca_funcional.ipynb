{
 "cells": [
  {
   "cell_type": "code",
   "execution_count": null,
   "metadata": {},
   "outputs": [],
   "source": [
    "# MANERA CLASICA DE HACER UNA BIBLIOTECA (FUNCIONAL)\n",
    "def añadir_libro(biblioteca, libro):\n",
    "    biblioteca.append(libro)\n",
    "\n",
    "def eliminar_libro(biblioteca, titulo):\n",
    "    biblioteca[:] = [libro for libro in biblioteca if libro['titulo'] != titulo]\n",
    "    \n",
    "def buscar_libro(biblioteca, titulo):\n",
    "    for libro in biblioteca:\n",
    "        if libro['titulo'] == titulo:\n",
    "            return libro\n",
    "    return None\n",
    "    \n",
    "def mostrar_libros(biblioteca):\n",
    "    for libro in biblioteca:\n",
    "        print(libro['titulo'])\n",
    "        print(libro['autor'])\n",
    "        print(\"****\")\n",
    "\n",
    "def guardar_biblioteca(biblioteca, fichero):\n",
    "    pass"
   ]
  },
  {
   "cell_type": "code",
   "execution_count": 3,
   "metadata": {},
   "outputs": [
    {
     "name": "stdout",
     "output_type": "stream",
     "text": [
      "Buscamos '1984'\n",
      "{'titulo': '1984', 'autor': 'George Orwell'}\n",
      "\n",
      "Mostramos la biblioteca\n",
      "1984\n",
      "George Orwell\n",
      "****\n",
      "Brave New World\n",
      "Aldous Huxley\n",
      "****\n",
      "\n",
      "Eliminamos '1984'\n",
      "Mostramos como queda la biblioteca\n",
      "Brave New World\n",
      "Aldous Huxley\n",
      "****\n"
     ]
    }
   ],
   "source": [
    "biblioteca = []\n",
    "añadir_libro(biblioteca, {'titulo': '1984', 'autor': 'George Orwell'})\n",
    "añadir_libro(biblioteca, {'titulo': 'Brave New World', 'autor': 'Aldous Huxley'})\n",
    "print(\"Buscamos '1984'\")\n",
    "print(buscar_libro(biblioteca, '1984'))  # {'titulo': '1984', 'autor': 'George Orwell'}\n",
    "print(\"\")\n",
    "print(\"Mostramos la biblioteca\")\n",
    "mostrar_libros(biblioteca) \n",
    "print(\"\")\n",
    "print(\"Eliminamos '1984'\")\n",
    "eliminar_libro(biblioteca, '1984')\n",
    "print(\"Mostramos como queda la biblioteca\")\n",
    "mostrar_libros(biblioteca)\n"
   ]
  }
 ],
 "metadata": {
  "kernelspec": {
   "display_name": "Python 3",
   "language": "python",
   "name": "python3"
  },
  "language_info": {
   "codemirror_mode": {
    "name": "ipython",
    "version": 3
   },
   "file_extension": ".py",
   "mimetype": "text/x-python",
   "name": "python",
   "nbconvert_exporter": "python",
   "pygments_lexer": "ipython3",
   "version": "3.11.5"
  }
 },
 "nbformat": 4,
 "nbformat_minor": 2
}
